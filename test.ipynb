{
 "cells": [
  {
   "cell_type": "code",
   "execution_count": 17,
   "metadata": {},
   "outputs": [
    {
     "name": "stderr",
     "output_type": "stream",
     "text": [
      "/Users/tamassimonds/Library/Python/3.9/lib/python/site-packages/urllib3/__init__.py:35: NotOpenSSLWarning: urllib3 v2 only supports OpenSSL 1.1.1+, currently the 'ssl' module is compiled with 'LibreSSL 2.8.3'. See: https://github.com/urllib3/urllib3/issues/3020\n",
      "  warnings.warn(\n"
     ]
    },
    {
     "data": {
      "text/plain": [
       "\"Hello! I'm just a computer program, so I don't have feelings, but I'm here and ready to help you. How can I assist you today?\""
      ]
     },
     "execution_count": 17,
     "metadata": {},
     "output_type": "execute_result"
    }
   ],
   "source": [
    "from utils.inference import generate_text\n",
    "\n",
    "MODEL = \"gpt-4o-mini\"\n",
    "\n",
    "text = await generate_text(MODEL, \"Hello, how are you?\")\n",
    "text"
   ]
  },
  {
   "cell_type": "code",
   "execution_count": 18,
   "metadata": {},
   "outputs": [
    {
     "name": "stdout",
     "output_type": "stream",
     "text": [
      "Defaulting to user installation because normal site-packages is not writeable\n",
      "Requirement already satisfied: sympy in /Users/tamassimonds/Library/Python/3.9/lib/python/site-packages (1.13.3)\n",
      "Requirement already satisfied: mpmath<1.4,>=1.1.0 in /Users/tamassimonds/Library/Python/3.9/lib/python/site-packages (from sympy) (1.3.0)\n",
      "\n",
      "\u001b[1m[\u001b[0m\u001b[34;49mnotice\u001b[0m\u001b[1;39;49m]\u001b[0m\u001b[39;49m A new release of pip is available: \u001b[0m\u001b[31;49m24.3.1\u001b[0m\u001b[39;49m -> \u001b[0m\u001b[32;49m25.0.1\u001b[0m\n",
      "\u001b[1m[\u001b[0m\u001b[34;49mnotice\u001b[0m\u001b[1;39;49m]\u001b[0m\u001b[39;49m To update, run: \u001b[0m\u001b[32;49m/Library/Developer/CommandLineTools/usr/bin/python3 -m pip install --upgrade pip\u001b[0m\n"
     ]
    }
   ],
   "source": [
    "!pip install sympy"
   ]
  },
  {
   "cell_type": "code",
   "execution_count": 28,
   "metadata": {},
   "outputs": [
    {
     "name": "stdout",
     "output_type": "stream",
     "text": [
      "Antiderivative: x**2*sin(x) + 2*x*cos(x) - 2*sin(x)\n"
     ]
    }
   ],
   "source": [
    "from sympy import symbols, integrate, sqrt, log, atan, exp, cos, Sum, tan, cos, csc, sec, cot, sin\n",
    "# Define variable\n",
    "x = symbols('x')\n",
    "\n",
    "# Define the integrand\n",
    "integrand = x**2*cos(x)\n",
    "\n",
    "\n",
    "# Perform indefinite integration\n",
    "result = integrate(integrand, x)\n",
    "print(f\"Antiderivative: {result}\")"
   ]
  },
  {
   "cell_type": "code",
   "execution_count": 37,
   "metadata": {},
   "outputs": [
    {
     "data": {
      "text/latex": [
       "$\\displaystyle \\frac{\\cos{\\left(x \\right)} + \\cot{\\left(x \\right)} + \\csc{\\left(x \\right)} + 1}{\\sin{\\left(x \\right)} + \\tan{\\left(x \\right)} + \\sec{\\left(x \\right)} + 1}$"
      ],
      "text/plain": [
       "(cos(x) + cot(x) + csc(x) + 1)/(sin(x) + tan(x) + sec(x) + 1)"
      ]
     },
     "execution_count": 37,
     "metadata": {},
     "output_type": "execute_result"
    }
   ],
   "source": [
    "import sympy as sp\n",
    "exp = (cos(x) + cot(x) + csc(x) + 1)/(sin(x) + tan(x) + sec(x) + 1)\n",
    "sp.sympify(exp)\n",
    "\n"
   ]
  },
  {
   "cell_type": "code",
   "execution_count": 24,
   "metadata": {},
   "outputs": [
    {
     "data": {
      "text/latex": [
       "$\\displaystyle x^{2} \\cos{\\left(x \\right)}$"
      ],
      "text/plain": [
       "x**2*cos(x)"
      ]
     },
     "execution_count": 24,
     "metadata": {},
     "output_type": "execute_result"
    }
   ],
   "source": [
    "from sympy import diff\n",
    "anti_result = diff(result, x)\n",
    "anti_result"
   ]
  },
  {
   "cell_type": "code",
   "execution_count": 20,
   "metadata": {},
   "outputs": [
    {
     "data": {
      "text/latex": [
       "$\\displaystyle 1.20919957615615$"
      ],
      "text/plain": [
       "1.20919957615615"
      ]
     },
     "execution_count": 20,
     "metadata": {},
     "output_type": "execute_result"
    }
   ],
   "source": [
    "\n",
    "result.subs(x, 2).evalf()"
   ]
  },
  {
   "cell_type": "code",
   "execution_count": 19,
   "metadata": {},
   "outputs": [
    {
     "name": "stderr",
     "output_type": "stream",
     "text": [
      "/Users/tamassimonds/Library/Python/3.9/lib/python/site-packages/urllib3/__init__.py:35: NotOpenSSLWarning: urllib3 v2 only supports OpenSSL 1.1.1+, currently the 'ssl' module is compiled with 'LibreSSL 2.8.3'. See: https://github.com/urllib3/urllib3/issues/3020\n",
      "  warnings.warn(\n"
     ]
    },
    {
     "name": "stdout",
     "output_type": "stream",
     "text": [
      "Error verifying integral: Sympify of expression 'could not parse 'u**2 * diff(u'' failed, because of exception being raised:\n",
      "TokenError: ('EOF in multi-line statement', (2, 0))\n"
     ]
    }
   ],
   "source": [
    "from generate_variants import process_integral\n",
    "\n",
    "text = \"integrate((5*x**3 - 3*x)**2, x)\"\n",
    "# text = variants[0][\"variant\"]\n",
    "difficulties = [\"easier\"]\n",
    "variants = await process_integral(text, difficulties, num_variants=50)\n",
    "\n"
   ]
  },
  {
   "cell_type": "code",
   "execution_count": 20,
   "metadata": {},
   "outputs": [
    {
     "data": {
      "text/plain": [
       "[{'original': 'integrate((5*x**3 - 3*x)**2, x)',\n",
       "  'requested_difficulty': 'easier',\n",
       "  'variant': 'integrate(25*x**6 - 30*x**4 + 9*x**2, x)',\n",
       "  'reasoning': 'From the perspective of a student favoring polynomials, I see that the expression can be rewritten as a polynomial in standard form before integrating to avoid dealing with the square directly.',\n",
       "  'variant_response': None,\n",
       "  'verification_passed': True,\n",
       "  'evaluation': 'equivalent',\n",
       "  'transformations_used': ['simplify composite trigonometric functions',\n",
       "   'change a function to an easier one',\n",
       "   'replace a complex fraction with a simpler one'],\n",
       "  'solution': '25*x**7/7 - 6*x**5 + 3*x**3',\n",
       "  'evaluations': {5.0: 260619.57597014934,\n",
       "   8.221: 8837992.941102637,\n",
       "   -1.8: -122.56968710851774},\n",
       "  'timestamp': '2025-02-04T22:55:04.897408Z'},\n",
       " {'original': 'integrate((5*x**3 - 3*x)**2, x)',\n",
       "  'requested_difficulty': 'easier',\n",
       "  'variant': 'integrate(5*x**3, x)',\n",
       "  'reasoning': 'The engineer in me recognizes that often, breaking down computations leads to easier evaluations. I can separate the integral into two simpler parts: the linear and cubic components in their integral forms.',\n",
       "  'variant_response': None,\n",
       "  'verification_passed': True,\n",
       "  'evaluation': 'easier',\n",
       "  'transformations_used': ['simplify composite trigonometric functions',\n",
       "   'change a function to an easier one',\n",
       "   'replace a complex fraction with a simpler one'],\n",
       "  'solution': '5*x**4/4',\n",
       "  'evaluations': {6.231: 1884.7785079013988,\n",
       "   -1.61: 8.394474784371765,\n",
       "   6.106: 1737.9664817168496},\n",
       "  'timestamp': '2025-02-04T22:55:05.388440Z'},\n",
       " {'original': 'integrate((5*x**3 - 3*x)**2, x)',\n",
       "  'requested_difficulty': 'easier',\n",
       "  'variant': 'integrate(5*(x**3 - (3/5)*x)**2, x)',\n",
       "  'reasoning': 'As a number theorist captivated by rational coefficients, I will simplify the integral by factoring out constants, thus reducing the complexity of integration.',\n",
       "  'variant_response': None,\n",
       "  'verification_passed': True,\n",
       "  'evaluation': 'equivalent',\n",
       "  'transformations_used': ['simplify composite trigonometric functions',\n",
       "   'change a function to an easier one',\n",
       "   'replace a complex fraction with a simpler one'],\n",
       "  'solution': '5*x**7/7 - 6*x**5/5 + 3*x**3/5',\n",
       "  'evaluations': {-3.209: -2115.307774390235,\n",
       "   -0.944: -0.08228754134064482,\n",
       "   -1.253: -0.9399617148976275},\n",
       "  'timestamp': '2025-02-04T22:55:04.906804Z'},\n",
       " {'original': 'integrate((5*x**3 - 3*x)**2, x)',\n",
       "  'requested_difficulty': 'easier',\n",
       "  'variant': 'integrate(5*(x)*(x**2 - (3/5))**2, x)',\n",
       "  'reasoning': 'The number theorist in me also points out that we can explore the symmetry of polynomials. We can redefine x to exploit roots or factors that reveal properties guiding us toward a simpler integration.',\n",
       "  'variant_response': None,\n",
       "  'verification_passed': True,\n",
       "  'evaluation': 'easier',\n",
       "  'transformations_used': ['simplify composite trigonometric functions',\n",
       "   'change a function to an easier one',\n",
       "   'replace a complex fraction with a simpler one'],\n",
       "  'solution': '5*x**6/6 - 3*x**4/2 + 9*x**2/10',\n",
       "  'evaluations': {-0.802: 0.18006468059021105,\n",
       "   4.06: 3340.2424223283356,\n",
       "   3.677: 1798.6121530967107},\n",
       "  'timestamp': '2025-02-04T22:55:05.373810Z'},\n",
       " {'original': 'integrate((5*x**3 - 3*x)**2, x)',\n",
       "  'requested_difficulty': 'easier',\n",
       "  'variant': 'integrate((5*x**3 - 3*x)*(5*x**3 - 3*x), x)',\n",
       "  'reasoning': 'Thinking like the engineer again, I see this as a computational challenge. By defining it in terms of simpler behaviors near x = 0, I can approximate the function for nearby points to simplify integration.',\n",
       "  'variant_response': None,\n",
       "  'verification_passed': True,\n",
       "  'evaluation': 'equivalent',\n",
       "  'transformations_used': ['simplify composite trigonometric functions',\n",
       "   'change a function to an easier one',\n",
       "   'replace a complex fraction with a simpler one'],\n",
       "  'solution': '25*x**7/7 - 6*x**5 + 3*x**3',\n",
       "  'evaluations': {-3.269: -12104.27997518875,\n",
       "   -8.28: -9298011.086375596,\n",
       "   9.222: 19857220.971527398},\n",
       "  'timestamp': '2025-02-04T22:55:05.569574Z'}]"
      ]
     },
     "execution_count": 20,
     "metadata": {},
     "output_type": "execute_result"
    }
   ],
   "source": [
    "variants"
   ]
  },
  {
   "cell_type": "code",
   "execution_count": 4,
   "metadata": {},
   "outputs": [
    {
     "name": "stdout",
     "output_type": "stream",
     "text": [
      "Processing expression: (1 - x**4) * sqrt((1 + x**2 + x**4)/(1 + x**4))\n",
      "Error computing evaluations: cannot determine truth value of Relational\n",
      "Error computing evaluations: cannot determine truth value of Relational\n",
      "Error computing evaluations: cannot determine truth value of Relational\n",
      "Error computing evaluations: cannot determine truth value of Relational\n"
     ]
    }
   ],
   "source": [
    "from generate_variants_general import process_expression\n",
    "base_expr = \"(1 - x**4) * sqrt((1 + x**2 + x**4)/(1 + x**4))\"  # Example expression\n",
    "difficulties = [\"easier\", \"equivalent\", \"harder\"]\n",
    "print(\"Processing expression:\", base_expr)\n",
    "variants = await process_expression(base_expr, difficulties, num_variants=3)\n",
    "\n"
   ]
  },
  {
   "cell_type": "code",
   "execution_count": 5,
   "metadata": {},
   "outputs": [
    {
     "ename": "KeyboardInterrupt",
     "evalue": "",
     "output_type": "error",
     "traceback": [
      "\u001b[0;31m---------------------------------------------------------------------------\u001b[0m",
      "\u001b[0;31mKeyboardInterrupt\u001b[0m                         Traceback (most recent call last)",
      "Cell \u001b[0;32mIn[5], line 5\u001b[0m\n\u001b[1;32m      3\u001b[0m x \u001b[38;5;241m=\u001b[39m symbols(\u001b[38;5;124m'\u001b[39m\u001b[38;5;124mx\u001b[39m\u001b[38;5;124m'\u001b[39m)\n\u001b[1;32m      4\u001b[0m integrand \u001b[38;5;241m=\u001b[39m (\u001b[38;5;241m1\u001b[39m \u001b[38;5;241m-\u001b[39m x\u001b[38;5;241m*\u001b[39m\u001b[38;5;241m*\u001b[39m\u001b[38;5;241m4\u001b[39m) \u001b[38;5;241m*\u001b[39m sqrt((\u001b[38;5;241m1\u001b[39m \u001b[38;5;241m+\u001b[39m x\u001b[38;5;241m*\u001b[39m\u001b[38;5;241m*\u001b[39m\u001b[38;5;241m2\u001b[39m \u001b[38;5;241m+\u001b[39m x\u001b[38;5;241m*\u001b[39m\u001b[38;5;241m*\u001b[39m\u001b[38;5;241m4\u001b[39m)\u001b[38;5;241m/\u001b[39m(\u001b[38;5;241m1\u001b[39m \u001b[38;5;241m+\u001b[39m x\u001b[38;5;241m*\u001b[39m\u001b[38;5;241m*\u001b[39m\u001b[38;5;241m4\u001b[39m))\n\u001b[0;32m----> 5\u001b[0m integral \u001b[38;5;241m=\u001b[39m \u001b[43mintegrate\u001b[49m\u001b[43m(\u001b[49m\u001b[43mintegrand\u001b[49m\u001b[43m,\u001b[49m\u001b[43m \u001b[49m\u001b[43mx\u001b[49m\u001b[43m)\u001b[49m\n",
      "File \u001b[0;32m~/Library/Python/3.9/lib/python/site-packages/sympy/integrals/integrals.py:1574\u001b[0m, in \u001b[0;36mintegrate\u001b[0;34m(meijerg, conds, risch, heurisch, manual, *args, **kwargs)\u001b[0m\n\u001b[1;32m   1571\u001b[0m integral \u001b[38;5;241m=\u001b[39m Integral(\u001b[38;5;241m*\u001b[39margs, \u001b[38;5;241m*\u001b[39m\u001b[38;5;241m*\u001b[39mkwargs)\n\u001b[1;32m   1573\u001b[0m \u001b[38;5;28;01mif\u001b[39;00m \u001b[38;5;28misinstance\u001b[39m(integral, Integral):\n\u001b[0;32m-> 1574\u001b[0m     \u001b[38;5;28;01mreturn\u001b[39;00m \u001b[43mintegral\u001b[49m\u001b[38;5;241;43m.\u001b[39;49m\u001b[43mdoit\u001b[49m\u001b[43m(\u001b[49m\u001b[38;5;241;43m*\u001b[39;49m\u001b[38;5;241;43m*\u001b[39;49m\u001b[43mdoit_flags\u001b[49m\u001b[43m)\u001b[49m\n\u001b[1;32m   1575\u001b[0m \u001b[38;5;28;01melse\u001b[39;00m:\n\u001b[1;32m   1576\u001b[0m     new_args \u001b[38;5;241m=\u001b[39m [a\u001b[38;5;241m.\u001b[39mdoit(\u001b[38;5;241m*\u001b[39m\u001b[38;5;241m*\u001b[39mdoit_flags) \u001b[38;5;28;01mif\u001b[39;00m \u001b[38;5;28misinstance\u001b[39m(a, Integral) \u001b[38;5;28;01melse\u001b[39;00m a\n\u001b[1;32m   1577\u001b[0m         \u001b[38;5;28;01mfor\u001b[39;00m a \u001b[38;5;129;01min\u001b[39;00m integral\u001b[38;5;241m.\u001b[39margs]\n",
      "File \u001b[0;32m~/Library/Python/3.9/lib/python/site-packages/sympy/integrals/integrals.py:619\u001b[0m, in \u001b[0;36mIntegral.doit\u001b[0;34m(self, **hints)\u001b[0m\n\u001b[1;32m    617\u001b[0m     antideriv \u001b[38;5;241m=\u001b[39m \u001b[38;5;28;01mNone\u001b[39;00m\n\u001b[1;32m    618\u001b[0m \u001b[38;5;28;01melse\u001b[39;00m:\n\u001b[0;32m--> 619\u001b[0m     antideriv \u001b[38;5;241m=\u001b[39m \u001b[38;5;28;43mself\u001b[39;49m\u001b[38;5;241;43m.\u001b[39;49m\u001b[43m_eval_integral\u001b[49m\u001b[43m(\u001b[49m\n\u001b[1;32m    620\u001b[0m \u001b[43m        \u001b[49m\u001b[43mfunction\u001b[49m\u001b[43m,\u001b[49m\u001b[43m \u001b[49m\u001b[43mxab\u001b[49m\u001b[43m[\u001b[49m\u001b[38;5;241;43m0\u001b[39;49m\u001b[43m]\u001b[49m\u001b[43m,\u001b[49m\u001b[43m \u001b[49m\u001b[38;5;241;43m*\u001b[39;49m\u001b[38;5;241;43m*\u001b[39;49m\u001b[43meval_kwargs\u001b[49m\u001b[43m)\u001b[49m\n\u001b[1;32m    621\u001b[0m     \u001b[38;5;28;01mif\u001b[39;00m antideriv \u001b[38;5;129;01mis\u001b[39;00m \u001b[38;5;28;01mNone\u001b[39;00m \u001b[38;5;129;01mand\u001b[39;00m meijerg \u001b[38;5;129;01mis\u001b[39;00m \u001b[38;5;28;01mTrue\u001b[39;00m:\n\u001b[1;32m    622\u001b[0m         ret \u001b[38;5;241m=\u001b[39m try_meijerg(function, xab)\n",
      "File \u001b[0;32m~/Library/Python/3.9/lib/python/site-packages/sympy/integrals/integrals.py:1091\u001b[0m, in \u001b[0;36mIntegral._eval_integral\u001b[0;34m(self, f, x, meijerg, risch, manual, heurisch, conds, final)\u001b[0m\n\u001b[1;32m   1089\u001b[0m \u001b[38;5;28;01mtry\u001b[39;00m:\n\u001b[1;32m   1090\u001b[0m     \u001b[38;5;28;01mif\u001b[39;00m conds \u001b[38;5;241m==\u001b[39m \u001b[38;5;124m'\u001b[39m\u001b[38;5;124mpiecewise\u001b[39m\u001b[38;5;124m'\u001b[39m:\n\u001b[0;32m-> 1091\u001b[0m         h \u001b[38;5;241m=\u001b[39m \u001b[43mheurisch_wrapper\u001b[49m\u001b[43m(\u001b[49m\u001b[43mg\u001b[49m\u001b[43m,\u001b[49m\u001b[43m \u001b[49m\u001b[43mx\u001b[49m\u001b[43m,\u001b[49m\u001b[43m \u001b[49m\u001b[43mhints\u001b[49m\u001b[38;5;241;43m=\u001b[39;49m\u001b[43m[\u001b[49m\u001b[43m]\u001b[49m\u001b[43m)\u001b[49m\n\u001b[1;32m   1092\u001b[0m     \u001b[38;5;28;01melse\u001b[39;00m:\n\u001b[1;32m   1093\u001b[0m         h \u001b[38;5;241m=\u001b[39m heurisch_(g, x, hints\u001b[38;5;241m=\u001b[39m[])\n",
      "File \u001b[0;32m~/Library/Python/3.9/lib/python/site-packages/sympy/integrals/heurisch.py:144\u001b[0m, in \u001b[0;36mheurisch_wrapper\u001b[0;34m(f, x, rewrite, hints, mappings, retries, degree_offset, unnecessary_permutations, _try_heurisch)\u001b[0m\n\u001b[1;32m    141\u001b[0m \u001b[38;5;28;01mif\u001b[39;00m \u001b[38;5;129;01mnot\u001b[39;00m f\u001b[38;5;241m.\u001b[39mhas_free(x):\n\u001b[1;32m    142\u001b[0m     \u001b[38;5;28;01mreturn\u001b[39;00m f\u001b[38;5;241m*\u001b[39mx\n\u001b[0;32m--> 144\u001b[0m res \u001b[38;5;241m=\u001b[39m \u001b[43mheurisch\u001b[49m\u001b[43m(\u001b[49m\u001b[43mf\u001b[49m\u001b[43m,\u001b[49m\u001b[43m \u001b[49m\u001b[43mx\u001b[49m\u001b[43m,\u001b[49m\u001b[43m \u001b[49m\u001b[43mrewrite\u001b[49m\u001b[43m,\u001b[49m\u001b[43m \u001b[49m\u001b[43mhints\u001b[49m\u001b[43m,\u001b[49m\u001b[43m \u001b[49m\u001b[43mmappings\u001b[49m\u001b[43m,\u001b[49m\u001b[43m \u001b[49m\u001b[43mretries\u001b[49m\u001b[43m,\u001b[49m\u001b[43m \u001b[49m\u001b[43mdegree_offset\u001b[49m\u001b[43m,\u001b[49m\n\u001b[1;32m    145\u001b[0m \u001b[43m               \u001b[49m\u001b[43munnecessary_permutations\u001b[49m\u001b[43m,\u001b[49m\u001b[43m \u001b[49m\u001b[43m_try_heurisch\u001b[49m\u001b[43m)\u001b[49m\n\u001b[1;32m    146\u001b[0m \u001b[38;5;28;01mif\u001b[39;00m \u001b[38;5;129;01mnot\u001b[39;00m \u001b[38;5;28misinstance\u001b[39m(res, Basic):\n\u001b[1;32m    147\u001b[0m     \u001b[38;5;28;01mreturn\u001b[39;00m res\n",
      "File \u001b[0;32m~/Library/Python/3.9/lib/python/site-packages/sympy/integrals/heurisch.py:759\u001b[0m, in \u001b[0;36mheurisch\u001b[0;34m(f, x, rewrite, hints, mappings, retries, degree_offset, unnecessary_permutations, _try_heurisch)\u001b[0m\n\u001b[1;32m    755\u001b[0m     more_free \u001b[38;5;241m=\u001b[39m Fd\u001b[38;5;241m.\u001b[39mxreplace(\u001b[38;5;28mdict\u001b[39m(\u001b[38;5;28mzip\u001b[39m(V, (Dummy() \u001b[38;5;28;01mfor\u001b[39;00m _ \u001b[38;5;129;01min\u001b[39;00m V)))\n\u001b[1;32m    756\u001b[0m         )\u001b[38;5;241m.\u001b[39mfree_symbols \u001b[38;5;241m&\u001b[39m Fd\u001b[38;5;241m.\u001b[39mfree_symbols\n\u001b[1;32m    757\u001b[0m \u001b[38;5;28;01mif\u001b[39;00m \u001b[38;5;129;01mnot\u001b[39;00m more_free:\n\u001b[1;32m    758\u001b[0m     \u001b[38;5;66;03m# all free generators are identified in V\u001b[39;00m\n\u001b[0;32m--> 759\u001b[0m     solution \u001b[38;5;241m=\u001b[39m \u001b[43m_integrate\u001b[49m\u001b[43m(\u001b[49m\u001b[38;5;124;43m'\u001b[39;49m\u001b[38;5;124;43mQ\u001b[39;49m\u001b[38;5;124;43m'\u001b[39;49m\u001b[43m)\u001b[49m\n\u001b[1;32m    761\u001b[0m     \u001b[38;5;28;01mif\u001b[39;00m solution \u001b[38;5;129;01mis\u001b[39;00m \u001b[38;5;28;01mNone\u001b[39;00m:\n\u001b[1;32m    762\u001b[0m         solution \u001b[38;5;241m=\u001b[39m _integrate()\n",
      "File \u001b[0;32m~/Library/Python/3.9/lib/python/site-packages/sympy/integrals/heurisch.py:743\u001b[0m, in \u001b[0;36mheurisch.<locals>._integrate\u001b[0;34m(field)\u001b[0m\n\u001b[1;32m    741\u001b[0m \u001b[38;5;28;01mexcept\u001b[39;00m \u001b[38;5;167;01mValueError\u001b[39;00m:\n\u001b[1;32m    742\u001b[0m     \u001b[38;5;28;01mraise\u001b[39;00m PolynomialError\n\u001b[0;32m--> 743\u001b[0m solution \u001b[38;5;241m=\u001b[39m \u001b[43msolve_lin_sys\u001b[49m\u001b[43m(\u001b[49m\u001b[43mnumer\u001b[49m\u001b[38;5;241;43m.\u001b[39;49m\u001b[43mcoeffs\u001b[49m\u001b[43m(\u001b[49m\u001b[43m)\u001b[49m\u001b[43m,\u001b[49m\u001b[43m \u001b[49m\u001b[43mcoeff_ring\u001b[49m\u001b[43m,\u001b[49m\u001b[43m \u001b[49m\u001b[43m_raw\u001b[49m\u001b[38;5;241;43m=\u001b[39;49m\u001b[38;5;28;43;01mFalse\u001b[39;49;00m\u001b[43m)\u001b[49m\n\u001b[1;32m    745\u001b[0m \u001b[38;5;28;01mif\u001b[39;00m solution \u001b[38;5;129;01mis\u001b[39;00m \u001b[38;5;28;01mNone\u001b[39;00m:\n\u001b[1;32m    746\u001b[0m     \u001b[38;5;28;01mreturn\u001b[39;00m \u001b[38;5;28;01mNone\u001b[39;00m\n",
      "File \u001b[0;32m~/Library/Python/3.9/lib/python/site-packages/sympy/polys/solvers.py:279\u001b[0m, in \u001b[0;36msolve_lin_sys\u001b[0;34m(eqs, ring, _raw)\u001b[0m\n\u001b[1;32m    276\u001b[0m     eqs_rhs\u001b[38;5;241m.\u001b[39mappend(eq_rhs)\n\u001b[1;32m    277\u001b[0m     eqs_coeffs\u001b[38;5;241m.\u001b[39mappend(eq_coeffs)\n\u001b[0;32m--> 279\u001b[0m result \u001b[38;5;241m=\u001b[39m \u001b[43m_solve_lin_sys\u001b[49m\u001b[43m(\u001b[49m\u001b[43meqs_coeffs\u001b[49m\u001b[43m,\u001b[49m\u001b[43m \u001b[49m\u001b[43meqs_rhs\u001b[49m\u001b[43m,\u001b[49m\u001b[43m \u001b[49m\u001b[43mring\u001b[49m\u001b[43m)\u001b[49m\n\u001b[1;32m    281\u001b[0m \u001b[38;5;28;01mif\u001b[39;00m result \u001b[38;5;129;01mis\u001b[39;00m \u001b[38;5;129;01mnot\u001b[39;00m \u001b[38;5;28;01mNone\u001b[39;00m \u001b[38;5;129;01mand\u001b[39;00m as_expr:\n\u001b[1;32m    283\u001b[0m     \u001b[38;5;28;01mdef\u001b[39;00m \u001b[38;5;21mto_sympy\u001b[39m(x):\n",
      "File \u001b[0;32m~/Library/Python/3.9/lib/python/site-packages/sympy/polys/solvers.py:357\u001b[0m, in \u001b[0;36m_solve_lin_sys\u001b[0;34m(eqs_coeffs, eqs_rhs, ring)\u001b[0m\n\u001b[1;32m    355\u001b[0m sol \u001b[38;5;241m=\u001b[39m {}\n\u001b[1;32m    356\u001b[0m \u001b[38;5;28;01mfor\u001b[39;00m subsystem \u001b[38;5;129;01min\u001b[39;00m subsystems:\n\u001b[0;32m--> 357\u001b[0m     subsol \u001b[38;5;241m=\u001b[39m \u001b[43m_solve_lin_sys_component\u001b[49m\u001b[43m(\u001b[49m\u001b[43msubsystem\u001b[49m\u001b[43m[\u001b[49m\u001b[38;5;241;43m0\u001b[39;49m\u001b[43m]\u001b[49m\u001b[43m,\u001b[49m\u001b[43m \u001b[49m\u001b[43msubsystem\u001b[49m\u001b[43m[\u001b[49m\u001b[38;5;241;43m1\u001b[39;49m\u001b[43m]\u001b[49m\u001b[43m,\u001b[49m\u001b[43m \u001b[49m\u001b[43mring\u001b[49m\u001b[43m)\u001b[49m\n\u001b[1;32m    358\u001b[0m     \u001b[38;5;28;01mif\u001b[39;00m subsol \u001b[38;5;129;01mis\u001b[39;00m \u001b[38;5;28;01mNone\u001b[39;00m:\n\u001b[1;32m    359\u001b[0m         \u001b[38;5;28;01mreturn\u001b[39;00m \u001b[38;5;28;01mNone\u001b[39;00m\n",
      "File \u001b[0;32m~/Library/Python/3.9/lib/python/site-packages/sympy/polys/solvers.py:430\u001b[0m, in \u001b[0;36m_solve_lin_sys_component\u001b[0;34m(eqs_coeffs, eqs_rhs, ring)\u001b[0m\n\u001b[1;32m    428\u001b[0m vals_set \u001b[38;5;241m=\u001b[39m {v \u001b[38;5;28;01mfor\u001b[39;00m row \u001b[38;5;129;01min\u001b[39;00m echelon \u001b[38;5;28;01mfor\u001b[39;00m v \u001b[38;5;129;01min\u001b[39;00m row}\n\u001b[1;32m    429\u001b[0m vals_map \u001b[38;5;241m=\u001b[39m {v: convert(v) \u001b[38;5;28;01mfor\u001b[39;00m v \u001b[38;5;129;01min\u001b[39;00m vals_set}\n\u001b[0;32m--> 430\u001b[0m echelon \u001b[38;5;241m=\u001b[39m [[vals_map[eij] \u001b[38;5;28;01mfor\u001b[39;00m eij \u001b[38;5;129;01min\u001b[39;00m ei] \u001b[38;5;28;01mfor\u001b[39;00m ei \u001b[38;5;129;01min\u001b[39;00m echelon]\n\u001b[1;32m    431\u001b[0m \u001b[38;5;28;01mfor\u001b[39;00m i, p \u001b[38;5;129;01min\u001b[39;00m \u001b[38;5;28menumerate\u001b[39m(pivots):\n\u001b[1;32m    432\u001b[0m     v \u001b[38;5;241m=\u001b[39m echelon[i][\u001b[38;5;241m-\u001b[39m\u001b[38;5;241m1\u001b[39m] \u001b[38;5;241m-\u001b[39m \u001b[38;5;28msum\u001b[39m(echelon[i][j]\u001b[38;5;241m*\u001b[39mg[j] \u001b[38;5;28;01mfor\u001b[39;00m j \u001b[38;5;129;01min\u001b[39;00m \u001b[38;5;28mrange\u001b[39m(p\u001b[38;5;241m+\u001b[39m\u001b[38;5;241m1\u001b[39m, \u001b[38;5;28mlen\u001b[39m(g)) \u001b[38;5;28;01mif\u001b[39;00m echelon[i][j])\n",
      "File \u001b[0;32m~/Library/Python/3.9/lib/python/site-packages/sympy/polys/solvers.py:430\u001b[0m, in \u001b[0;36m<listcomp>\u001b[0;34m(.0)\u001b[0m\n\u001b[1;32m    428\u001b[0m vals_set \u001b[38;5;241m=\u001b[39m {v \u001b[38;5;28;01mfor\u001b[39;00m row \u001b[38;5;129;01min\u001b[39;00m echelon \u001b[38;5;28;01mfor\u001b[39;00m v \u001b[38;5;129;01min\u001b[39;00m row}\n\u001b[1;32m    429\u001b[0m vals_map \u001b[38;5;241m=\u001b[39m {v: convert(v) \u001b[38;5;28;01mfor\u001b[39;00m v \u001b[38;5;129;01min\u001b[39;00m vals_set}\n\u001b[0;32m--> 430\u001b[0m echelon \u001b[38;5;241m=\u001b[39m [[vals_map[eij] \u001b[38;5;28;01mfor\u001b[39;00m eij \u001b[38;5;129;01min\u001b[39;00m ei] \u001b[38;5;28;01mfor\u001b[39;00m ei \u001b[38;5;129;01min\u001b[39;00m echelon]\n\u001b[1;32m    431\u001b[0m \u001b[38;5;28;01mfor\u001b[39;00m i, p \u001b[38;5;129;01min\u001b[39;00m \u001b[38;5;28menumerate\u001b[39m(pivots):\n\u001b[1;32m    432\u001b[0m     v \u001b[38;5;241m=\u001b[39m echelon[i][\u001b[38;5;241m-\u001b[39m\u001b[38;5;241m1\u001b[39m] \u001b[38;5;241m-\u001b[39m \u001b[38;5;28msum\u001b[39m(echelon[i][j]\u001b[38;5;241m*\u001b[39mg[j] \u001b[38;5;28;01mfor\u001b[39;00m j \u001b[38;5;129;01min\u001b[39;00m \u001b[38;5;28mrange\u001b[39m(p\u001b[38;5;241m+\u001b[39m\u001b[38;5;241m1\u001b[39m, \u001b[38;5;28mlen\u001b[39m(g)) \u001b[38;5;28;01mif\u001b[39;00m echelon[i][j])\n",
      "File \u001b[0;32m~/Library/Python/3.9/lib/python/site-packages/sympy/polys/solvers.py:430\u001b[0m, in \u001b[0;36m<listcomp>\u001b[0;34m(.0)\u001b[0m\n\u001b[1;32m    428\u001b[0m vals_set \u001b[38;5;241m=\u001b[39m {v \u001b[38;5;28;01mfor\u001b[39;00m row \u001b[38;5;129;01min\u001b[39;00m echelon \u001b[38;5;28;01mfor\u001b[39;00m v \u001b[38;5;129;01min\u001b[39;00m row}\n\u001b[1;32m    429\u001b[0m vals_map \u001b[38;5;241m=\u001b[39m {v: convert(v) \u001b[38;5;28;01mfor\u001b[39;00m v \u001b[38;5;129;01min\u001b[39;00m vals_set}\n\u001b[0;32m--> 430\u001b[0m echelon \u001b[38;5;241m=\u001b[39m [[\u001b[43mvals_map\u001b[49m\u001b[43m[\u001b[49m\u001b[43meij\u001b[49m\u001b[43m]\u001b[49m \u001b[38;5;28;01mfor\u001b[39;00m eij \u001b[38;5;129;01min\u001b[39;00m ei] \u001b[38;5;28;01mfor\u001b[39;00m ei \u001b[38;5;129;01min\u001b[39;00m echelon]\n\u001b[1;32m    431\u001b[0m \u001b[38;5;28;01mfor\u001b[39;00m i, p \u001b[38;5;129;01min\u001b[39;00m \u001b[38;5;28menumerate\u001b[39m(pivots):\n\u001b[1;32m    432\u001b[0m     v \u001b[38;5;241m=\u001b[39m echelon[i][\u001b[38;5;241m-\u001b[39m\u001b[38;5;241m1\u001b[39m] \u001b[38;5;241m-\u001b[39m \u001b[38;5;28msum\u001b[39m(echelon[i][j]\u001b[38;5;241m*\u001b[39mg[j] \u001b[38;5;28;01mfor\u001b[39;00m j \u001b[38;5;129;01min\u001b[39;00m \u001b[38;5;28mrange\u001b[39m(p\u001b[38;5;241m+\u001b[39m\u001b[38;5;241m1\u001b[39m, \u001b[38;5;28mlen\u001b[39m(g)) \u001b[38;5;28;01mif\u001b[39;00m echelon[i][j])\n",
      "File \u001b[0;32m~/Library/Python/3.9/lib/python/site-packages/sympy/external/pythonmpq.py:139\u001b[0m, in \u001b[0;36mPythonMPQ.__hash__\u001b[0;34m(self)\u001b[0m\n\u001b[1;32m    137\u001b[0m \u001b[38;5;250m\u001b[39m\u001b[38;5;124;03m\"\"\"hash - same as mpq/Fraction\"\"\"\u001b[39;00m\n\u001b[1;32m    138\u001b[0m \u001b[38;5;28;01mtry\u001b[39;00m:\n\u001b[0;32m--> 139\u001b[0m     dinv \u001b[38;5;241m=\u001b[39m \u001b[38;5;28;43mpow\u001b[39;49m\u001b[43m(\u001b[49m\u001b[38;5;28;43mself\u001b[39;49m\u001b[38;5;241;43m.\u001b[39;49m\u001b[43mdenominator\u001b[49m\u001b[43m,\u001b[49m\u001b[43m \u001b[49m\u001b[38;5;241;43m-\u001b[39;49m\u001b[38;5;241;43m1\u001b[39;49m\u001b[43m,\u001b[49m\u001b[43m \u001b[49m\u001b[43m_PyHASH_MODULUS\u001b[49m\u001b[43m)\u001b[49m\n\u001b[1;32m    140\u001b[0m \u001b[38;5;28;01mexcept\u001b[39;00m \u001b[38;5;167;01mValueError\u001b[39;00m:\n\u001b[1;32m    141\u001b[0m     hash_ \u001b[38;5;241m=\u001b[39m _PyHASH_INF\n",
      "\u001b[0;31mKeyboardInterrupt\u001b[0m: "
     ]
    }
   ],
   "source": [
    "from sympy import symbols, sqrt, integrate\n",
    "\n",
    "x = symbols('x')\n",
    "integrand = (1 - x**4) * sqrt((1 + x**2 + x**4)/(1 + x**4))\n",
    "integral = integrate(integrand, x)"
   ]
  },
  {
   "cell_type": "code",
   "execution_count": 7,
   "metadata": {},
   "outputs": [
    {
     "data": {
      "text/plain": [
       "[{'original': '(1 - x**4) * sqrt((1 + x**2 + x**4)/(1 + x**4))',\n",
       "  'requested_difficulty': 'easier',\n",
       "  'variant': '(1 - x**2) * (1 + x**2)',\n",
       "  'reasoning': 'As a calculus professor who loves elegant simplifications, I would simplify the expression by removing higher powers and focusing on reducing the complexity inside the square root.',\n",
       "  'verification_passed': True,\n",
       "  'evaluation': 'easier',\n",
       "  'transformations_used': ['replace a complex fraction with a simpler one',\n",
       "   'reduce an exponent',\n",
       "   'lower a coefficient',\n",
       "   'simplify a trigonometric component',\n",
       "   'change a function to an easier one'],\n",
       "  'evaluations': {-5.027: -637.8130755545272,\n",
       "   1.701: -7.37682388331063,\n",
       "   4.52: -416.30041800892667},\n",
       "  'timestamp': '2025-02-04T07:18:04.757457Z'},\n",
       " {'original': '(1 - x**4) * sqrt((1 + x**2 + x**4)/(1 + x**4))',\n",
       "  'requested_difficulty': 'easier',\n",
       "  'variant': 'sqrt((1 + x**2 + y) / (1 + y)) * (1 - y)',\n",
       "  'reasoning': 'As a creative mathematician who enjoys unusual substitutions, I can substitute x^4 with y and simplify the fractions accordingly.',\n",
       "  'verification_passed': True,\n",
       "  'evaluation': 'equivalent',\n",
       "  'transformations_used': ['replace a complex fraction with a simpler one',\n",
       "   'reduce an exponent',\n",
       "   'lower a coefficient',\n",
       "   'simplify a trigonometric component',\n",
       "   'change a function to an easier one'],\n",
       "  'evaluations': {},\n",
       "  'timestamp': '2025-02-04T07:18:04.198529Z'},\n",
       " {'original': '(1 - x**4) * sqrt((1 + x**2 + x**4)/(1 + x**4))',\n",
       "  'requested_difficulty': 'easier',\n",
       "  'variant': '(1 - tan(t)**4) * sqrt((1 + tan(t)**2 + tan(t)**4) / (1 + tan(t)**4))',\n",
       "  'reasoning': 'As a theoretical physicist fond of trigonometric forms, I use the identity x^2 = tan^2(t) to simplify the terms involving x^4.',\n",
       "  'verification_passed': True,\n",
       "  'evaluation': 'equivalent',\n",
       "  'transformations_used': ['replace a complex fraction with a simpler one',\n",
       "   'reduce an exponent',\n",
       "   'lower a coefficient',\n",
       "   'simplify a trigonometric component',\n",
       "   'change a function to an easier one'],\n",
       "  'evaluations': {},\n",
       "  'timestamp': '2025-02-04T07:18:04.376620Z'},\n",
       " {'original': '(1 - x**4) * sqrt((1 + x**2 + x**4)/(1 + x**4))',\n",
       "  'requested_difficulty': 'equivalent',\n",
       "  'variant': '(1 - x**4) * ((1 + x**2 + x**4) / (1 + x**4))**(1/2)',\n",
       "  'reasoning': 'As a calculus professor, I appreciate the elegance of simplification. By multiplying through with (1 - x^4) and simplifying under the square root, we can express the square root as an equivalent function that may be easier to integrate or differentiate.',\n",
       "  'verification_passed': True,\n",
       "  'evaluation': 'equivalent',\n",
       "  'transformations_used': ['factor common terms differently',\n",
       "   'modify an exponent slightly',\n",
       "   'substitute equivalent exponential forms',\n",
       "   'exchange similar functions (e.g., sin to cos)',\n",
       "   'rewrite the integrand in a different form without changing overall complexity'],\n",
       "  'evaluations': {8.572: -5434.022523179065,\n",
       "   -6.147: -1445.139430970816,\n",
       "   5.23: -760.7656224547475},\n",
       "  'timestamp': '2025-02-04T07:18:06.008992Z'},\n",
       " {'original': '(1 - x**4) * sqrt((1 + x**2 + x**4)/(1 + x**4))',\n",
       "  'requested_difficulty': 'equivalent',\n",
       "  'variant': '(1 - y**2) * sqrt((1 + y + y**2)/(1 + y**2))',\n",
       "  'reasoning': 'The creative mathematician in me suggests using an unusual substitution to reveal a hidden symmetry. Here, I substitute y = x^2, simplifying the original expression contextually.',\n",
       "  'verification_passed': True,\n",
       "  'evaluation': 'easier',\n",
       "  'transformations_used': ['factor common terms differently',\n",
       "   'modify an exponent slightly',\n",
       "   'substitute equivalent exponential forms',\n",
       "   'exchange similar functions (e.g., sin to cos)',\n",
       "   'rewrite the integrand in a different form without changing overall complexity'],\n",
       "  'evaluations': {},\n",
       "  'timestamp': '2025-02-04T07:18:06.040584Z'},\n",
       " {'original': '(1 - x**4) * sqrt((1 + x**2 + x**4)/(1 + x**4))',\n",
       "  'requested_difficulty': 'equivalent',\n",
       "  'variant': '(1 - x**4) * exp(1/2 * log((1 + x**2 + x**4) / (1 + x**4)))',\n",
       "  'reasoning': 'The theoretical physicist in me sees potential in expressing this in exponential form to explore oscillatory behavior or growth rates. Exponentiation of sqrt terms can align well with power series expansions.',\n",
       "  'verification_passed': True,\n",
       "  'evaluation': 'equivalent',\n",
       "  'transformations_used': ['factor common terms differently',\n",
       "   'modify an exponent slightly',\n",
       "   'substitute equivalent exponential forms',\n",
       "   'exchange similar functions (e.g., sin to cos)',\n",
       "   'rewrite the integrand in a different form without changing overall complexity'],\n",
       "  'evaluations': {6.773: -2126.5161624924635,\n",
       "   3.336: -128.1668380035336,\n",
       "   1.508: -4.877283706223941},\n",
       "  'timestamp': '2025-02-04T07:18:06.036288Z'},\n",
       " {'original': '(1 - x**4) * sqrt((1 + x**2 + x**4)/(1 + x**4))',\n",
       "  'requested_difficulty': 'harder',\n",
       "  'variant': '(1 - x**4) * sqrt((1 + x**2 + x**4 + x**6)/(1 + x**4))',\n",
       "  'reasoning': 'As a calculus professor, I introduce a higher degree polynomial in the numerator under the square root to make the expression more interesting and challenging. This complicates differentiation and integration tasks.',\n",
       "  'verification_passed': True,\n",
       "  'evaluation': 'harder',\n",
       "  'transformations_used': ['complicate the denominator',\n",
       "   'embed an extra constant factor that makes the expression less trivial',\n",
       "   'include a higher degree term',\n",
       "   'add a non-linear term',\n",
       "   'increase the exponent'],\n",
       "  'evaluations': {3.358: -442.08976659274174,\n",
       "   -7.083: -18001.87881667269,\n",
       "   -6.314: -10156.57065943497},\n",
       "  'timestamp': '2025-02-04T07:18:06.221055Z'},\n",
       " {'original': '(1 - x**4) * sqrt((1 + x**2 + x**4)/(1 + x**4))',\n",
       "  'requested_difficulty': 'harder',\n",
       "  'variant': '(1 - sin(x)**4) * sqrt((1 + sin(x)**2 + sin(x)**4)/(1 + sin(x)**4))',\n",
       "  'reasoning': 'As a creative mathematician, I enjoy using unusual substitutions, so I replace `x` with a trigonometric function `sin(x)`, which introduces periodic behavior and complicates algebraic manipulation.',\n",
       "  'verification_passed': True,\n",
       "  'evaluation': 'equivalent',\n",
       "  'transformations_used': ['complicate the denominator',\n",
       "   'embed an extra constant factor that makes the expression less trivial',\n",
       "   'include a higher degree term',\n",
       "   'add a non-linear term',\n",
       "   'increase the exponent'],\n",
       "  'evaluations': {-4.969: 0.15272014915892562,\n",
       "   -0.088: 1.0037644491837998,\n",
       "   7.872: 0.0007936807364862309},\n",
       "  'timestamp': '2025-02-04T07:18:06.364070Z'},\n",
       " {'original': '(1 - x**4) * sqrt((1 + x**2 + x**4)/(1 + x**4))',\n",
       "  'requested_difficulty': 'harder',\n",
       "  'variant': '(1 - x**4) * sqrt((1 + x**2 + x**4)/(1 + x**4 + x**3))',\n",
       "  'reasoning': \"As a student, I am comfortable working with polynomials, so I extend the polynomial's degree by adding a cubic term in the denominator's numerator, which maintains the rational form while increasing algebraic complexity.\",\n",
       "  'verification_passed': True,\n",
       "  'evaluation': 'harder',\n",
       "  'transformations_used': ['complicate the denominator',\n",
       "   'embed an extra constant factor that makes the expression less trivial',\n",
       "   'include a higher degree term',\n",
       "   'add a non-linear term',\n",
       "   'increase the exponent'],\n",
       "  'evaluations': {-2.099: -27.462814043004332,\n",
       "   -7.009: -2631.7878759030305,\n",
       "   0.545: 0.9595988916633726},\n",
       "  'timestamp': '2025-02-04T07:18:06.181024Z'}]"
      ]
     },
     "execution_count": 7,
     "metadata": {},
     "output_type": "execute_result"
    }
   ],
   "source": [
    "variants"
   ]
  },
  {
   "cell_type": "code",
   "execution_count": null,
   "metadata": {},
   "outputs": [],
   "source": []
  }
 ],
 "metadata": {
  "kernelspec": {
   "display_name": "Python 3",
   "language": "python",
   "name": "python3"
  },
  "language_info": {
   "codemirror_mode": {
    "name": "ipython",
    "version": 3
   },
   "file_extension": ".py",
   "mimetype": "text/x-python",
   "name": "python",
   "nbconvert_exporter": "python",
   "pygments_lexer": "ipython3",
   "version": "3.9.6"
  }
 },
 "nbformat": 4,
 "nbformat_minor": 2
}
